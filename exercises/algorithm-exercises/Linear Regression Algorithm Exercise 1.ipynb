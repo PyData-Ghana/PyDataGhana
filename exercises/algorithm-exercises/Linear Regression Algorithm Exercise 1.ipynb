{
 "cells": [
  {
   "cell_type": "markdown",
   "metadata": {},
   "source": [
    "   ## An introduction to Linear Regression\n",
    " \n",
    " Linear Regression is one the easiest algorithms to understand use in statistics and machine learning. For those of us very familiar with the field of Statitics, Linear Regression may ring a bell. Machine learning(ML) is for a machine to learn from experience. For the machine to find a relationship between a bunch of inputs and their corresponding outputs. So it is not surprising to find Linear Regression being stolen from Statistics and applied in ML since it a linear approach to model the relationshp between an input/inputs and an output/outputs. Read more [here][1].\n",
    "\n",
    "[1]: https://en.wikipedia.org/wiki/Linear_regression"
   ]
  },
  {
   "cell_type": "markdown",
   "metadata": {},
   "source": [
    "### Main  asumption underlying this model\n",
    "* It assumes there is a linear relationship between input values ($x$) and their corresponding output value ($y$).\n",
    "\n",
    "Hence the very famous symbolic linear equation;\n",
    "\n",
    "$y$ = $m$$x$ + $b$\n",
    "\n",
    "### OR\n",
    "\n",
    "$f(x)$ = $m$$x$ + $b$\n",
    "\n",
    "### Lets go over what those variables (i.e. y, x, m, b) mean\n",
    "\n",
    "* $x$ refers to the input value\n",
    "* $m$ refers to the slope of the line or what we know as the gradient\n",
    "* $b$ refers to the intercept\n",
    "* $y$ or f(x) refers to the output"
   ]
  },
  {
   "cell_type": "markdown",
   "metadata": {},
   "source": [
    "The above equation is a `Simple Linear Regression` because we have only one input(x) which gives one output(y). A `Multiple Linear Regression` takes multple inputs($x_{1}$, $x_{2}$, $x_{3}$,..... $x_{n}$) to return an output($y$).\n",
    "\n",
    "A Multiple Linear Regression equation will look like this;\n",
    "\n",
    "$y$ = $m_1$$x_1$ + $m_2$$x_2$ + $m_3$$x_3$...... + $m_n$$x_n$ + $b$"
   ]
  },
  {
   "cell_type": "markdown",
   "metadata": {},
   "source": [
    "This tutorial will focus on the Simple Linear Regression model. We are going to create our own data with a bunch of inputs and outputs and we are going to train our very own Simple Linear Regression model to learn the data and make predictions. In ML, we call this type of learning, Supervised Learning. Here, we have our inputs and their corresponding outputs so the model just needs to learn and find a function that with right coefficients that can give us better predictions. For example;\n",
    "\n",
    "|input(x)|output(y)|\n",
    "|----|----|\n",
    "|1|1|\n",
    "|2|4|\n",
    "|3|9|\n",
    "|4|16|\n",
    "\n",
    "From the above table we would want to find a function, given x will return the right output(y). Clearly, we can see that function will be $f(x)$ = $x^2$. So f(2) will return 4 and f(3) will return 9. In case we input in data the model has not seen before, let's say we input 5, it will return 25. This is a very simple problem, we did not even have to rely on the power of a machine to learn this data. In real life, data is not so simple like the one shown above.\n",
    "\n",
    "If you noticed all the model had to do to was to find out x raised to the power of something (i.e. $x^i$) to be able to make good predictions. So in our Simple Linear Regression Model that we are about to create, we need to find the right values for coefficients (i.e. $m$, $b$) to be able to learn the data and make good predictions.\n",
    "\n",
    "##### lets code"
   ]
  },
  {
   "cell_type": "markdown",
   "metadata": {},
   "source": [
    "Wait! Not yet. First of all we need to find the formula for our coefficients.\n",
    "\n",
    "$m = r (\\frac{s_y}{s_x})$, where $r$ is the correlation between x and y and $s$ is the standard deviatipns of x and y values.\n",
    "\n",
    "$b = \\bar y - m \\bar x$, where $\\bar y$ is the mean of y outputs and $\\bar x$ is the mean of x inputs\n",
    "\n",
    "Since we wil be needing standard deviation, let's lay out the formulae for variance and take a square root of it to give us the standard deviation\n",
    "\n",
    "$v = \\frac{\\sum_{i=1}^N (x_i - \\bar x)^2}{N - 1}$\n",
    "\n",
    "$r$ appeared in the equation for $m$ which the sample correlation coefficient. below is the formulae\n",
    "\n",
    "$r = \\frac{s_{xy}}{s_x s_y}$ where $s_{xy}$ signifies the sample covariance\n",
    "\n",
    "$s_{xy} = \\sum_{i=1}^N (x_i - \\bar x)^2$\n",
    "\n",
    "##### lets code now"
   ]
  },
  {
   "cell_type": "code",
   "execution_count": null,
   "metadata": {
    "collapsed": true
   },
   "outputs": [],
   "source": [
    "# create a function to return the mean of values inserted into it\n",
    "def mean(values):\n",
    "    ## PUT YOUR CODE HERE"
   ]
  },
  {
   "cell_type": "code",
   "execution_count": null,
   "metadata": {
    "collapsed": true
   },
   "outputs": [],
   "source": [
    "# create a function that takes in values and the mean of those values, returns the variance of a POPULATITON\n",
    "# assuming our dataset is a sample of a population\n",
    "def variance(values, mean):\n",
    "    ## PUT YOUR CODE HERE"
   ]
  },
  {
   "cell_type": "code",
   "execution_count": null,
   "metadata": {
    "collapsed": true
   },
   "outputs": [],
   "source": [
    "# create a function that computes the covariance\n",
    "def covariance(x_values, x_mean, y_values, y_mean):\n",
    "    ## PUT YOUR CODE HERE"
   ]
  },
  {
   "cell_type": "markdown",
   "metadata": {},
   "source": [
    "We are good to go now. Lets create our data and plot it"
   ]
  },
  {
   "cell_type": "code",
   "execution_count": null,
   "metadata": {
    "collapsed": true
   },
   "outputs": [],
   "source": [
    "# our dataset\n",
    "dataset = [(2, 1), (3, 3), (5, 4), (4, 3), (6, 6)]\n",
    "\n",
    "# upack them into X and Y variables\n",
    "X, Y = ## PUT YOUR CODE HERE"
   ]
  },
  {
   "cell_type": "code",
   "execution_count": null,
   "metadata": {},
   "outputs": [],
   "source": [
    "# input values\n",
    "X"
   ]
  },
  {
   "cell_type": "code",
   "execution_count": null,
   "metadata": {},
   "outputs": [],
   "source": [
    "# output values\n",
    "Y"
   ]
  },
  {
   "cell_type": "code",
   "execution_count": null,
   "metadata": {
    "collapsed": true
   },
   "outputs": [],
   "source": [
    "# lets plot the dataset and see how it looks like\n",
    "import matplotlib.pyplot as plt\n",
    "\n",
    "# without this line, in order for the graph to show we would have to run `plt.show() after plt.scatter()`\n",
    "%matplotlib inline"
   ]
  },
  {
   "cell_type": "code",
   "execution_count": null,
   "metadata": {},
   "outputs": [],
   "source": [
    "# run this line to show scatter plot\n",
    "plt.scatter(X, Y)"
   ]
  },
  {
   "cell_type": "code",
   "execution_count": null,
   "metadata": {},
   "outputs": [],
   "source": [
    "# now lets compute our mean and variance from our dataset\n",
    "x_mean, y_mean = ## PUT YOUR CODE HERE\n",
    "x_var, y_var = ## PUT YOUR CODE HERE\n",
    "print(f\"The mean for X is: {x_mean} and the variance is {x_var}\")\n",
    "print(f\"The mean for X is: {y_mean} and the variance is {y_var}\")"
   ]
  },
  {
   "cell_type": "code",
   "execution_count": null,
   "metadata": {},
   "outputs": [],
   "source": [
    "# next is to calculate the covariance\n",
    "covar = ## PUT YOUR CODE HERE\n",
    "print(f\"The covariance for x,y is {covar}\")"
   ]
  },
  {
   "cell_type": "code",
   "execution_count": null,
   "metadata": {},
   "outputs": [],
   "source": [
    "# lets now find the correlation coefficient which is the sample covariance divided by the standard deviations of X and Y\n",
    "corr = ## PUT YOUR CODE HERE\n",
    "print(f\"The correlation coefficient is {corr}\")"
   ]
  },
  {
   "cell_type": "markdown",
   "metadata": {},
   "source": [
    "I think we are good to go to compute our coefficients for the linear equation"
   ]
  },
  {
   "cell_type": "code",
   "execution_count": null,
   "metadata": {},
   "outputs": [],
   "source": [
    "# m is corr * y_std / x_std\n",
    "# calculate your slope(m) based on the above formula\n",
    "## PUT YOUR CODE HERE\n",
    "\n",
    "# b is y_std - m * x_std\n",
    "# calculate your intercept(m) based on the above formula\n",
    "\n",
    "print(f\"The gradient is {m} and intecept is {b}\")"
   ]
  },
  {
   "cell_type": "markdown",
   "metadata": {},
   "source": [
    "From our data we have been able to compute the coefficients. Now lets create our simple linear regression function to handle all that we have done."
   ]
  },
  {
   "cell_type": "code",
   "execution_count": null,
   "metadata": {
    "collapsed": true
   },
   "outputs": [],
   "source": [
    "# Before we go ahead to create the function lets put all of the above in one function like this\n",
    "# go ahead and create a function that computes the coefficients of the dataset\n",
    "def coefficients(dataset):\n",
    "   ## PUT YOUR CODE HERE\n",
    "    \n",
    "    return m, b"
   ]
  },
  {
   "cell_type": "code",
   "execution_count": null,
   "metadata": {
    "collapsed": true
   },
   "outputs": [],
   "source": [
    "def simple_linear_regression(train_data, test_data):\n",
    "    \n",
    "    ## PUT YOUR CODE HERE\n",
    "    \n",
    "    return predictions"
   ]
  },
  {
   "cell_type": "markdown",
   "metadata": {},
   "source": [
    "Now lets run this our simple_linear_regression function and see how it does"
   ]
  },
  {
   "cell_type": "code",
   "execution_count": null,
   "metadata": {},
   "outputs": [],
   "source": [
    "# lets make our train and test dataset the same and see how well our algorithm can predict the data\n",
    "train_data = [(2, 1), (3, 3), (5, 4), (4, 3), (6, 6)]\n",
    "test_data = [(2, 1), (3, 3), (5, 4), (4, 3), (6, 6)]\n",
    "\n",
    "predictions = simple_linear_regression(train_data, test_data)\n",
    "print(f\"These are the predictions: {predictions}\")"
   ]
  },
  {
   "cell_type": "code",
   "execution_count": null,
   "metadata": {},
   "outputs": [],
   "source": [
    "# lets go ahead and plot it\n",
    "plt.scatter(X, Y)\n",
    "plt.plot(X, predictions, color=\"green\", marker=\"o\")"
   ]
  },
  {
   "cell_type": "markdown",
   "metadata": {},
   "source": [
    "Well thats what you get when you build an algoirthm from scratch. But this is not too helpful. We can't see the accuracy or check the error. Myabe we could optimize it a bit further "
   ]
  },
  {
   "cell_type": "markdown",
   "metadata": {},
   "source": [
    "So then let's go head to create a a function to check the errors. To see how far the line is from the points\n",
    "\n",
    "For a regression problem like this, there are a number of ways to check for accuracy. Let me list them out;\n",
    "\n",
    "* Root Mean Squared Error, as the name suggests, this is the sqaure root of the sum((actual_output - predicted_output)**2) divided by the number of samples\n",
    "* Mean Squared Error, as the name suggests, this is the sum(actual_output - predicted_output))\n"
   ]
  },
  {
   "cell_type": "code",
   "execution_count": null,
   "metadata": {
    "collapsed": true
   },
   "outputs": [],
   "source": [
    "# We would be using root mean squared error metrics\n",
    "def rmse(actual, predicted):\n",
    "    \n",
    "    ## PUT YOUR LINES OF CODE HERE\n",
    "    \n",
    "    return math.sqrt(mean_error)"
   ]
  },
  {
   "cell_type": "code",
   "execution_count": null,
   "metadata": {},
   "outputs": [],
   "source": [
    "# lets check the rmse for our model then\n",
    "rmse(Y, predictions)"
   ]
  },
  {
   "cell_type": "markdown",
   "metadata": {},
   "source": [
    "We can do better. RMSE can be reduced to improve the model using gradient descent to change the coefficients of our equation during training and finding the optimum coefficients that reduces the rmse. But we would tackle that in another exercise."
   ]
  },
  {
   "cell_type": "code",
   "execution_count": null,
   "metadata": {
    "collapsed": true
   },
   "outputs": [],
   "source": [
    "# Now squish all we have done into one function that handles the evaulation of the model\n",
    "def algo_evaluation(dataset, model, metric):\n",
    "    \n",
    "    ## PUT YOUR LINES OF CODE HERE\n",
    "    \n",
    "    return mean_error"
   ]
  },
  {
   "cell_type": "markdown",
   "metadata": {},
   "source": [
    "You can test your code below with the dataset and see if it gives you the same values as before."
   ]
  },
  {
   "cell_type": "code",
   "execution_count": null,
   "metadata": {
    "collapsed": true
   },
   "outputs": [],
   "source": []
  }
 ],
 "metadata": {
  "kernelspec": {
   "display_name": "Python 3",
   "language": "python",
   "name": "python3"
  },
  "language_info": {
   "codemirror_mode": {
    "name": "ipython",
    "version": 3
   },
   "file_extension": ".py",
   "mimetype": "text/x-python",
   "name": "python",
   "nbconvert_exporter": "python",
   "pygments_lexer": "ipython3",
   "version": "3.6.2"
  }
 },
 "nbformat": 4,
 "nbformat_minor": 2
}
